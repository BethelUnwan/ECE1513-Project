{
  "cells": [
    {
      "cell_type": "code",
      "execution_count": 2,
      "metadata": {
        "id": "Pviff9VshTe4"
      },
      "outputs": [],
      "source": [
        "import numpy as np\n",
        "import pandas as pd\n",
        "import matplotlib.pyplot as plt\n",
        "from sklearn.metrics import RocCurveDisplay\n",
        "from sklearn.model_selection import train_test_split\n",
        "from sklearn.svm import SVC\n",
        "from sklearn.metrics import log_loss, accuracy_score\n",
        "from sklearn.metrics import f1_score\n",
        "from imblearn.over_sampling import SMOTE\n",
        "from sklearn.model_selection import GridSearchCV"
      ]
    },
    {
      "cell_type": "code",
      "execution_count": 3,
      "metadata": {
        "colab": {
          "base_uri": "https://localhost:8080/"
        },
        "id": "I34HqxpDh2rm",
        "outputId": "5be55c2d-c7ad-41ed-b1ad-b04a758c3f2e"
      },
      "outputs": [
        {
          "name": "stdout",
          "output_type": "stream",
          "text": [
            "   Air_temperature_[K]  Process_temperature_[K]  Rotational_speed_[rpm]  \\\n",
            "0                298.1                    308.6                  1551.0   \n",
            "1                298.2                    308.7                  1408.0   \n",
            "2                298.1                    308.5                  1498.0   \n",
            "3                298.2                    308.6                  1433.0   \n",
            "4                298.2                    308.7                  1408.0   \n",
            "\n",
            "   Torque_[Nm]  Tool_wear_[min]  Target  \n",
            "0         42.8              0.0     0.0  \n",
            "1         46.3              3.0     0.0  \n",
            "2         49.4              5.0     0.0  \n",
            "3         39.5              7.0     0.0  \n",
            "4         40.0              9.0     0.0  \n",
            "(10000, 6)\n"
          ]
        }
      ],
      "source": [
        "with open('predictive_maintainance_1.csv', 'r') as file:\n",
        "    lines = file.readlines()\n",
        "\n",
        "# Split lines into columns based on the first 8 spaces or tabs\n",
        "data = [line.strip().split(None, 9) for line in lines]\n",
        "\n",
        "# Create a DataFrame from the data\n",
        "df = pd.DataFrame(data, columns=['UDI', 'Product_ID', 'Type', 'Air_temperature_[K]', 'Process_temperature_[K]', 'Rotational_speed_[rpm]', 'Torque_[Nm]', 'Tool_wear_[min]', 'Target', 'Failure_Type'])\n",
        "\n",
        "df['Type'] = df['Type'].replace({'L': 0 , 'M': 1 , 'H': 2 })\n",
        "\n",
        "#remove columns Product_ID, UDI,\n",
        "df = df.drop(columns=['UDI','Product_ID', 'Failure_Type'])\n",
        "df = df.drop(columns=['Type'])\n",
        "\n",
        "# cast values into float\n",
        "df = df.astype(float)\n",
        "\n",
        "# Display the DataFrame\n",
        "print(df.head())\n",
        "print(df.shape)"
      ]
    },
    {
      "cell_type": "code",
      "execution_count": 4,
      "metadata": {
        "id": "s3gSIOMXh8Cn"
      },
      "outputs": [],
      "source": [
        "df_failure = df[df['Target'] == 1]\n",
        "df_no_failure = df[df['Target'] == 0]\n",
        "\n",
        "\n",
        "\n",
        "# Split the DataFrame into features and target variables\n",
        "# falure dataset\n",
        "X_failure = df_failure.drop('Target', axis=1)  # Features\n",
        "y_failure = df_failure['Target']  # Target variable\n",
        "\n",
        "# no falure dataset\n",
        "X_no_failure = df_no_failure.drop('Target', axis=1)  # Features\n",
        "y_no_failure = df_no_failure['Target']  # Target variable\n",
        "\n",
        "# spliting the datasets into training and validation\n",
        "# failure data set\n",
        "X_train_failure, X_test_failure, y_train_failure, y_test_failure = train_test_split(\n",
        "    X_failure, y_failure, test_size=0.1, random_state=0)\n",
        "\n",
        "# no_failure dataset\n",
        "X_train_no_failure, X_test_no_failure, y_train_no_failure, y_test_no_failure = train_test_split(\n",
        "    X_no_failure, y_no_failure, test_size=0.1, random_state=0)\n",
        "\n",
        "\n",
        "# merge the taining data set\n",
        "X_train = pd.concat([X_train_failure, X_train_no_failure], ignore_index =True)\n",
        "y_train = pd.concat([y_train_failure, y_train_no_failure], ignore_index =True)\n",
        "\n",
        "# merging the test dataset\n",
        "X_test = pd.concat([X_test_failure, X_test_no_failure], ignore_index =True)\n",
        "y_test = pd.concat([y_test_failure, y_test_no_failure], ignore_index =True)\n",
        "\n",
        "# implementing biased sampling method\n",
        "smote = SMOTE(random_state=42)\n",
        "X_resampled, y_resampled = smote.fit_resample(X_train, y_train)\n"
      ]
    },
    {
      "cell_type": "code",
      "execution_count": 5,
      "metadata": {
        "colab": {
          "base_uri": "https://localhost:8080/"
        },
        "id": "N3MkELg-iCFP",
        "outputId": "ea44e1c8-9139-4d81-937a-15d47ae9d6fa"
      },
      "outputs": [
        {
          "name": "stdout",
          "output_type": "stream",
          "text": [
            "Best Parameters: {'C': 10, 'gamma': 0.01}\n",
            "Test Accuracy: 0.9340659340659341\n",
            "rbf SVM - Test Accuracy for failure only dataset: 0.41\n",
            "rbf SVM - Test Accuracy for no failure only dataset: 0.95\n",
            "rbf SVM - F1 Score: 0.2978723404255319\n"
          ]
        }
      ],
      "source": [
        "# Define the parameter grid\n",
        "param_grid = {\n",
        "    'C': [0.1, 1, 10],\n",
        "    'gamma': [0.1, 0.01, 0.001]\n",
        "}\n",
        "\n",
        "# Create SVM classifier\n",
        "svm = SVC()\n",
        "\n",
        "# Instantiate GridSearchCV\n",
        "grid_search = GridSearchCV(estimator=svm, param_grid=param_grid, cv=9, scoring='accuracy')\n",
        "\n",
        "# Perform grid search on the training data\n",
        "grid_search.fit(X_resampled, y_resampled)\n",
        "\n",
        "# Print the best parameters found\n",
        "print(\"Best Parameters:\", grid_search.best_params_)\n",
        "\n",
        "# Get the best estimator\n",
        "best_svm = grid_search.best_estimator_\n",
        "\n",
        "# Evaluate the best estimator on the test data\n",
        "test_accuracy = best_svm.score(X_test, y_test)\n",
        "print(\"Test Accuracy:\", test_accuracy)\n",
        "\n",
        "\n",
        "test_failure_accuracy = accuracy_score(y_test_failure, best_svm.predict(X_test_failure))\n",
        "test_no_failure_accuracy = accuracy_score(y_test_no_failure, best_svm.predict(X_test_no_failure))\n",
        "\n",
        "# F1 score calucation of the model\n",
        "f1 = f1_score(y_test, best_svm.predict(X_test))\n",
        "\n",
        "print(f\"rbf SVM - Test Accuracy for failure only dataset: {test_failure_accuracy:.2f}\")\n",
        "print(f\"rbf SVM - Test Accuracy for no failure only dataset: {test_no_failure_accuracy:.2f}\")\n",
        "\n",
        "# Display the F1 score\n",
        "print(\"rbf SVM - F1 Score:\", f1)"
      ]
    },
    {
      "cell_type": "code",
      "execution_count": 7,
      "metadata": {
        "colab": {
          "base_uri": "https://localhost:8080/"
        },
        "id": "-SvSzLLbiiTq",
        "outputId": "1078afc1-30dc-4775-f4fe-ee464229999f"
      },
      "outputs": [
        {
          "name": "stdout",
          "output_type": "stream",
          "text": [
            "rbf SVM - Training Accuracy: 0.99\n"
          ]
        }
      ],
      "source": [
        "train_accuracy = accuracy_score(y_resampled, best_svm.predict(X_resampled))\n",
        "print(f\"rbf SVM - Training Accuracy: {train_accuracy:.2f}\")"
      ]
    },
    {
      "cell_type": "code",
      "execution_count": 6,
      "metadata": {
        "colab": {
          "base_uri": "https://localhost:8080/",
          "height": 449
        },
        "id": "B3ZRMP6rRBIh",
        "outputId": "8c094637-f356-42e7-9543-5e8ab6e570f0"
      },
      "outputs": [
        {
          "data": {
            "image/png": "[encoded data removed]",
            "text/plain": [
              "<Figure size 640x480 with 1 Axes>"
            ]
          },
          "metadata": {},
          "output_type": "display_data"
        }
      ],
      "source": [
        "# Visulalization\n",
        "svm_disp = RocCurveDisplay.from_estimator(best_svm, X_test, y_test)"
      ]
    }
  ],
  "metadata": {
    "colab": {
      "provenance": []
    },
    "kernelspec": {
      "display_name": "Python 3",
      "name": "python3"
    },
    "language_info": {
      "name": "python"
    }
  },
  "nbformat": 4,
  "nbformat_minor": 0
}
